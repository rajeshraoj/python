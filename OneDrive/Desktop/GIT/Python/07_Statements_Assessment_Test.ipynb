{
  "cells": [
    {
      "cell_type": "markdown",
      "metadata": {
        "id": "3rAzvO7L1S5Y"
      },
      "source": [
        "___\n",
        "\n",
        "<a href='https://www.udemy.com/user/joseportilla/'><img src='../Pierian_Data_Logo.png'/></a>\n",
        "___\n",
        "<center><em>Content Copyright by Pierian Data</em></center>"
      ]
    },
    {
      "cell_type": "markdown",
      "metadata": {
        "collapsed": true,
        "id": "wT6YGxLF1S5a"
      },
      "source": [
        "# Statements Assessment Test\n",
        "Let's test your knowledge!"
      ]
    },
    {
      "cell_type": "markdown",
      "metadata": {
        "id": "SQq6mXCK1S5a"
      },
      "source": [
        "_____\n",
        "**Use <code>for</code>, .split(), and <code>if</code> to create a Statement that will print out words that start with 's':**"
      ]
    },
    {
      "cell_type": "code",
      "execution_count": 2,
      "metadata": {
        "collapsed": true,
        "id": "j8dGQcCV1S5a"
      },
      "outputs": [],
      "source": [
        "st = 'Print only the words that start with s in this sentence'"
      ]
    },
    {
      "cell_type": "code",
      "execution_count": 3,
      "metadata": {
        "collapsed": true,
        "colab": {
          "base_uri": "https://localhost:8080/"
        },
        "id": "bpRb6gBx1S5b",
        "outputId": "1bc57f2a-cae3-4fc6-88c6-6461308d6bfc"
      },
      "outputs": [
        {
          "output_type": "stream",
          "name": "stdout",
          "text": [
            "['start', 's', 'sentence']\n"
          ]
        }
      ],
      "source": [
        "#Code here\n",
        "print([ word for word in st.split() if word.startswith('s')] )"
      ]
    },
    {
      "cell_type": "markdown",
      "metadata": {
        "id": "b8YEg2mK1S5b"
      },
      "source": [
        "______\n",
        "**Use range() to print all the even numbers from 0 to 10.**"
      ]
    },
    {
      "cell_type": "code",
      "execution_count": 6,
      "metadata": {
        "collapsed": true,
        "colab": {
          "base_uri": "https://localhost:8080/"
        },
        "id": "w0vYkLm01S5b",
        "outputId": "e9e8dc13-6bd0-40b8-a93e-e030b2569102"
      },
      "outputs": [
        {
          "output_type": "stream",
          "name": "stdout",
          "text": [
            "[0, 2, 4, 6, 8]\n"
          ]
        }
      ],
      "source": [
        "#Code Here\n",
        "\n",
        "print([i for i in range(0,10) if i % 2 == 0])"
      ]
    },
    {
      "cell_type": "markdown",
      "metadata": {
        "id": "MhqxA_id1S5b"
      },
      "source": [
        "___\n",
        "**Use a List Comprehension to create a list of all numbers between 1 and 50 that are divisible by 3.**"
      ]
    },
    {
      "cell_type": "code",
      "execution_count": 7,
      "metadata": {
        "collapsed": true,
        "colab": {
          "base_uri": "https://localhost:8080/"
        },
        "id": "qRf5x6D91S5c",
        "outputId": "86e943b6-52df-4ded-9cbf-a206630af91f"
      },
      "outputs": [
        {
          "output_type": "execute_result",
          "data": {
            "text/plain": [
              "[3, 6, 9, 12, 15, 18, 21, 24, 27, 30, 33, 36, 39, 42, 45, 48]"
            ]
          },
          "metadata": {},
          "execution_count": 7
        }
      ],
      "source": [
        "#Code in this cell\n",
        "[i for i in range(1,51) if i % 3 == 0]"
      ]
    },
    {
      "cell_type": "markdown",
      "metadata": {
        "id": "Rpkgt0b_1S5c"
      },
      "source": [
        "_____\n",
        "**Go through the string below and if the length of a word is even print \"even!\"**"
      ]
    },
    {
      "cell_type": "code",
      "execution_count": 9,
      "metadata": {
        "collapsed": true,
        "id": "8_1cVhEy1S5c"
      },
      "outputs": [],
      "source": [
        "st = 'Print every word in this sentence that has an even number of letters'"
      ]
    },
    {
      "cell_type": "code",
      "execution_count": 12,
      "metadata": {
        "collapsed": true,
        "colab": {
          "base_uri": "https://localhost:8080/"
        },
        "id": "dFKDBBh11S5c",
        "outputId": "9e486053-7c17-4307-fe0a-d061ed941599"
      },
      "outputs": [
        {
          "output_type": "stream",
          "name": "stdout",
          "text": [
            "['word', 'in', 'this', 'sentence', 'that', 'an', 'even', 'number', 'of']\n"
          ]
        }
      ],
      "source": [
        "#Code in this cell\n",
        "print([word for word in st.split() if len(word) % 2 == 0])"
      ]
    },
    {
      "cell_type": "markdown",
      "metadata": {
        "id": "IF1U3m6T1S5c"
      },
      "source": [
        "____\n",
        "**Write a program that prints the integers from 1 to 100. But for multiples of three print \"Fizz\" instead of the number, and for the multiples of five print \"Buzz\". For numbers which are multiples of both three and five print \"FizzBuzz\".**"
      ]
    },
    {
      "cell_type": "code",
      "execution_count": 27,
      "metadata": {
        "collapsed": true,
        "colab": {
          "base_uri": "https://localhost:8080/"
        },
        "id": "T4SqIFFh1S5c",
        "outputId": "fd435501-fb42-433a-a136-0c22835b1943"
      },
      "outputs": [
        {
          "output_type": "execute_result",
          "data": {
            "text/plain": [
              "['FizzBuzz',\n",
              " 1,\n",
              " 2,\n",
              " 'Fizz',\n",
              " 4,\n",
              " 'Buzz',\n",
              " 'Fizz',\n",
              " 7,\n",
              " 8,\n",
              " 'Fizz',\n",
              " 'Buzz',\n",
              " 11,\n",
              " 'Fizz',\n",
              " 13,\n",
              " 14,\n",
              " 'FizzBuzz',\n",
              " 16,\n",
              " 17,\n",
              " 'Fizz',\n",
              " 19,\n",
              " 'Buzz',\n",
              " 'Fizz',\n",
              " 22,\n",
              " 23,\n",
              " 'Fizz',\n",
              " 'Buzz',\n",
              " 26,\n",
              " 'Fizz',\n",
              " 28,\n",
              " 29,\n",
              " 'FizzBuzz',\n",
              " 31,\n",
              " 32,\n",
              " 'Fizz',\n",
              " 34,\n",
              " 'Buzz',\n",
              " 'Fizz',\n",
              " 37,\n",
              " 38,\n",
              " 'Fizz',\n",
              " 'Buzz',\n",
              " 41,\n",
              " 'Fizz',\n",
              " 43,\n",
              " 44,\n",
              " 'FizzBuzz',\n",
              " 46,\n",
              " 47,\n",
              " 'Fizz',\n",
              " 49,\n",
              " 'Buzz',\n",
              " 'Fizz',\n",
              " 52,\n",
              " 53,\n",
              " 'Fizz',\n",
              " 'Buzz',\n",
              " 56,\n",
              " 'Fizz',\n",
              " 58,\n",
              " 59,\n",
              " 'FizzBuzz',\n",
              " 61,\n",
              " 62,\n",
              " 'Fizz',\n",
              " 64,\n",
              " 'Buzz',\n",
              " 'Fizz',\n",
              " 67,\n",
              " 68,\n",
              " 'Fizz',\n",
              " 'Buzz',\n",
              " 71,\n",
              " 'Fizz',\n",
              " 73,\n",
              " 74,\n",
              " 'FizzBuzz',\n",
              " 76,\n",
              " 77,\n",
              " 'Fizz',\n",
              " 79,\n",
              " 'Buzz',\n",
              " 'Fizz',\n",
              " 82,\n",
              " 83,\n",
              " 'Fizz',\n",
              " 'Buzz',\n",
              " 86,\n",
              " 'Fizz',\n",
              " 88,\n",
              " 89,\n",
              " 'FizzBuzz',\n",
              " 91,\n",
              " 92,\n",
              " 'Fizz',\n",
              " 94,\n",
              " 'Buzz',\n",
              " 'Fizz',\n",
              " 97,\n",
              " 98,\n",
              " 'Fizz',\n",
              " 'Buzz']"
            ]
          },
          "metadata": {},
          "execution_count": 27
        }
      ],
      "source": [
        "#Code in this cell\n",
        "['FizzBuzz' if (i % 3 == 0 and i % 5 == 0) else 'Fizz' if (i % 3 == 0) else \"Buzz\" if (i % 5 == 0) else i for i in range(0,101)]"
      ]
    },
    {
      "cell_type": "markdown",
      "metadata": {
        "id": "-H8BWFSP1S5d"
      },
      "source": [
        "____\n",
        "**Use List Comprehension to create a list of the first letters of every word in the string below:**"
      ]
    },
    {
      "cell_type": "code",
      "execution_count": 19,
      "metadata": {
        "collapsed": true,
        "id": "JGl55oHS1S5d"
      },
      "outputs": [],
      "source": [
        "st = 'Create a list of the first letters of every word in this string'"
      ]
    },
    {
      "cell_type": "code",
      "execution_count": 20,
      "metadata": {
        "collapsed": true,
        "colab": {
          "base_uri": "https://localhost:8080/"
        },
        "id": "rdeAzisB1S5d",
        "outputId": "257718df-914d-458e-b1ca-49fd752fd85a"
      },
      "outputs": [
        {
          "output_type": "execute_result",
          "data": {
            "text/plain": [
              "['C', 'a', 'l', 'o', 't', 'f', 'l', 'o', 'e', 'w', 'i', 't', 's']"
            ]
          },
          "metadata": {},
          "execution_count": 20
        }
      ],
      "source": [
        "#Code in this\n",
        "\n",
        "[ word[0] for word in st.split()]"
      ]
    },
    {
      "cell_type": "markdown",
      "metadata": {
        "id": "Cuhe0b7E1S5d"
      },
      "source": [
        "### Great Job!"
      ]
    }
  ],
  "metadata": {
    "kernelspec": {
      "display_name": "Python 3",
      "language": "python",
      "name": "python3"
    },
    "language_info": {
      "codemirror_mode": {
        "name": "ipython",
        "version": 3
      },
      "file_extension": ".py",
      "mimetype": "text/x-python",
      "name": "python",
      "nbconvert_exporter": "python",
      "pygments_lexer": "ipython3",
      "version": "3.6.6"
    },
    "colab": {
      "provenance": []
    }
  },
  "nbformat": 4,
  "nbformat_minor": 0
}